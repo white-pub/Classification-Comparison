{
 "cells": [
  {
   "cell_type": "code",
   "execution_count": null,
   "id": "22a48036-f577-4a23-ae59-02502df7d5fd",
   "metadata": {},
   "outputs": [],
   "source": []
  },
  {
   "cell_type": "code",
   "execution_count": 1,
   "id": "e8695d53-eb86-491e-a001-ef38eae9dc31",
   "metadata": {},
   "outputs": [
    {
     "name": "stdout",
     "output_type": "stream",
     "text": [
      "    Age   BMI Smoker Exercise Frequency Family History Alcohol Consumption  \\\n",
      "0    25  22.5     No               High             No            Moderate   \n",
      "1    34  28.7    Yes                Low            Yes               Heavy   \n",
      "2    45  30.1     No             Medium            Yes                None   \n",
      "3    52  25.3    Yes                Low             No            Moderate   \n",
      "4    29  27.8     No               High             No                None   \n",
      "5    61  31.5    Yes                Low            Yes               Heavy   \n",
      "6    36  24.0     No             Medium             No            Moderate   \n",
      "7    40  29.0    Yes                Low            Yes                None   \n",
      "8    48  32.1     No                Low            Yes               Heavy   \n",
      "9    23  21.9     No               High             No            Moderate   \n",
      "10   57  33.0    Yes                Low            Yes                None   \n",
      "11   31  25.0     No             Medium             No            Moderate   \n",
      "12   42  26.7    Yes             Medium            Yes               Heavy   \n",
      "13   50  30.4     No                Low             No                None   \n",
      "\n",
      "   High Risk  \n",
      "0         No  \n",
      "1        Yes  \n",
      "2        Yes  \n",
      "3        Yes  \n",
      "4         No  \n",
      "5        Yes  \n",
      "6         No  \n",
      "7        Yes  \n",
      "8        Yes  \n",
      "9         No  \n",
      "10       Yes  \n",
      "11        No  \n",
      "12       Yes  \n",
      "13        No  \n"
     ]
    }
   ],
   "source": [
    "import pandas as pd\n",
    "\n",
    "# Define the column names\n",
    "columns = [\"Age\", \"BMI\", \"Smoker\", \"Exercise Frequency\", \"Family History\", \"Alcohol Consumption\", \"High Risk\"]\n",
    "\n",
    "# Define the complete data including both parts\n",
    "data = [\n",
    "    [25, 22.5, \"No\", \"High\", \"No\", \"Moderate\", \"No\"],\n",
    "    [34, 28.7, \"Yes\", \"Low\", \"Yes\", \"Heavy\", \"Yes\"],\n",
    "    [45, 30.1, \"No\", \"Medium\", \"Yes\", \"None\", \"Yes\"],\n",
    "    [52, 25.3, \"Yes\", \"Low\", \"No\", \"Moderate\", \"Yes\"],\n",
    "    [29, 27.8, \"No\", \"High\", \"No\", \"None\", \"No\"],\n",
    "    [61, 31.5, \"Yes\", \"Low\", \"Yes\", \"Heavy\", \"Yes\"],\n",
    "    [36, 24, \"No\", \"Medium\", \"No\", \"Moderate\", \"No\"],\n",
    "    [40, 29, \"Yes\", \"Low\", \"Yes\", \"None\", \"Yes\"],\n",
    "    [48, 32.1, \"No\", \"Low\", \"Yes\", \"Heavy\", \"Yes\"],\n",
    "    [23, 21.9, \"No\", \"High\", \"No\", \"Moderate\", \"No\"],\n",
    "    [57, 33, \"Yes\", \"Low\", \"Yes\", \"None\", \"Yes\"],\n",
    "    [31, 25, \"No\", \"Medium\", \"No\", \"Moderate\", \"No\"],\n",
    "    [42, 26.7, \"Yes\", \"Medium\", \"Yes\", \"Heavy\", \"Yes\"],\n",
    "    [50, 30.4, \"No\", \"Low\", \"No\", \"None\", \"No\"]\n",
    "]\n",
    "\n",
    "# Create the DataFrame\n",
    "df = pd.DataFrame(data, columns=columns)\n",
    "\n",
    "# Display the DataFrame\n",
    "print(df)\n"
   ]
  },
  {
   "cell_type": "code",
   "execution_count": 3,
   "id": "e7031153-0f60-4817-9242-3c05b6125cab",
   "metadata": {},
   "outputs": [
    {
     "name": "stdout",
     "output_type": "stream",
     "text": [
      "   Age   BMI Smoker Exercise Frequency Family History Alcohol Consumption  \\\n",
      "0   25  22.5     No               High             No            Moderate   \n",
      "1   34  28.7    Yes                Low            Yes               Heavy   \n",
      "2   45  30.1     No             Medium            Yes                None   \n",
      "3   52  25.3    Yes                Low             No            Moderate   \n",
      "4   29  27.8     No               High             No                None   \n",
      "5   61  31.5    Yes                Low            Yes               Heavy   \n",
      "6   36  24.0     No             Medium             No            Moderate   \n",
      "7   40  29.0    Yes                Low            Yes                None   \n",
      "8   48  32.1     No                Low            Yes               Heavy   \n",
      "9   23  21.9     No               High             No            Moderate   \n",
      "\n",
      "  High Risk  \n",
      "0        No  \n",
      "1       Yes  \n",
      "2       Yes  \n",
      "3       Yes  \n",
      "4        No  \n",
      "5       Yes  \n",
      "6        No  \n",
      "7       Yes  \n",
      "8       Yes  \n",
      "9        No  \n"
     ]
    }
   ],
   "source": [
    "# Drop rows by index\n",
    "# For example, to drop rows with indices 2 and 5\n",
    "df = df.drop([10, 11, 12, 13])\n",
    "\n",
    "# Display the DataFrame\n",
    "print(df)\n"
   ]
  },
  {
   "cell_type": "code",
   "execution_count": 4,
   "id": "0c699613-93f7-4d4e-b92d-453809d2f3b9",
   "metadata": {},
   "outputs": [
    {
     "name": "stdout",
     "output_type": "stream",
     "text": [
      "0    22.5\n",
      "1    28.7\n",
      "2    30.1\n",
      "3    25.3\n",
      "4    27.8\n",
      "5    31.5\n",
      "6    24.0\n",
      "7    29.0\n",
      "8    32.1\n",
      "9    21.9\n",
      "Name: BMI, dtype: float64\n"
     ]
    }
   ],
   "source": [
    "\n",
    "column = df[\"BMI\"]\n",
    "\n",
    "# Display the extracted column\n",
    "print(column)\n"
   ]
  },
  {
   "cell_type": "code",
   "execution_count": 7,
   "id": "febfa976-1562-4530-955b-c2c6eff531ad",
   "metadata": {},
   "outputs": [
    {
     "name": "stdout",
     "output_type": "stream",
     "text": [
      "BMI 28.25\n"
     ]
    }
   ],
   "source": [
    "# Calculate the median of the \"Age\" column\n",
    "median = df[\"BMI\"].median()\n",
    "\n",
    "# Display the median\n",
    "print(\"BMI\", median)\n"
   ]
  },
  {
   "cell_type": "code",
   "execution_count": null,
   "id": "9591fa83-2997-487e-8a34-734e164eb75d",
   "metadata": {},
   "outputs": [],
   "source": []
  }
 ],
 "metadata": {
  "kernelspec": {
   "display_name": "Python 3 (ipykernel)",
   "language": "python",
   "name": "python3"
  },
  "language_info": {
   "codemirror_mode": {
    "name": "ipython",
    "version": 3
   },
   "file_extension": ".py",
   "mimetype": "text/x-python",
   "name": "python",
   "nbconvert_exporter": "python",
   "pygments_lexer": "ipython3",
   "version": "3.12.5"
  }
 },
 "nbformat": 4,
 "nbformat_minor": 5
}
